{
 "cells": [
  {
   "cell_type": "markdown",
   "metadata": {},
   "source": [
    "# <center>Laboratorium 9<br>Metody Numeryczne</center>"
   ]
  },
  {
   "cell_type": "markdown",
   "metadata": {},
   "source": [
    "Instrukcja:  \n",
    "Na zajęciach należy wykonać poniższe zadania, a następnie sporządzić sprawozdanie zawierające odpowiedzi (w postaci kodu) z komentarzami w środowisku Jupyter Notebook i umieścić je na platformie e-learningowej."
   ]
  },
  {
   "cell_type": "markdown",
   "metadata": {},
   "source": [
    "***Materiały przygotowujące:***\n"
   ]
  },
  {
   "cell_type": "code",
   "execution_count": 23,
   "metadata": {},
   "outputs": [],
   "source": [
    "import main\n",
    "import numpy as np\n",
    "import scipy\n",
    "import matplotlib\n",
    "import matplotlib.pyplot as plt\n",
    "import math\n"
   ]
  },
  {
   "cell_type": "markdown",
   "metadata": {},
   "source": [
    "***Temat główny:***\n",
    "\n",
    "Znajdź miejsca zerowe funkcji: \n",
    "$ \n",
    "f(x) = e^{-2x} + x^2 - 1 \n",
    "$,\n",
    "\n",
    "metodami:\n",
    "* Bisekcji,\n",
    "* Siecznych,\n",
    "* Newtona\n",
    "\n",
    "Funkcja i jej pochodne zostały zaimplementowane w *main.py*"
   ]
  },
  {
   "cell_type": "markdown",
   "metadata": {},
   "source": [
    "***Zadanie 1.***  \n",
    "Wykonaj wykres funckji oraz jej pierwszej i drugiej pochodnej (obliczonej analitycznie) na jednym rysunku w przedziale pozwalającym na zgrubne określenie miejsc zerowych. Wykres powinien być odpowiednio opisany. Określ przedział miejsca zerowego."
   ]
  },
  {
   "cell_type": "markdown",
   "metadata": {},
   "source": [
    "***Zadanie 2.***  \n",
    "Zaimplementuj [metodę bisekcji](https://en.wikipedia.org/wiki/Bisection_method)\n",
    "\n",
    "Gwarancja zbieżności:\n",
    "\n",
    "1) funkcja jest ciągła na danym przedziale [a,b]\n",
    "\n",
    "2) funkcja na końcach przedziału przyjmuje przeciwne znaki"
   ]
  },
  {
   "cell_type": "markdown",
   "metadata": {},
   "source": [
    "***Zadanie 3.***  \n",
    "Zaimplementuj [metodę siecznych](https://en.wikipedia.org/wiki/Secant_method)\n",
    "\n",
    "Gwarancja zbieżności:\n",
    "\n",
    "1) funkcja jest ciągła na danym przedziale [a,b]\n",
    "\n",
    "2) Pierwsza i druga pochodna istnieją i są ciągłe w przedziale domkniętym [a,b]\n",
    "\n",
    "3) funkcja na końcach przedziału przyjmuje przeciwne znaki\n",
    "\n",
    "4) pierwsza i druga pochodna mają stały znak (brak eksremów lokalnych i punktów przegięcia)\n"
   ]
  },
  {
   "cell_type": "markdown",
   "metadata": {},
   "source": [
    "***Zadanie 4.***  \n",
    "Zaimplementuj [metodę Newtona](https://en.wikipedia.org/wiki/Newton%27s_method)\n",
    "\n",
    "Gwarancja zbieżności:\n",
    "\n",
    "1) funkcja jest ciągła na danym przedziale [a,b]\n",
    "\n",
    "2) Pierwsza i druga pochodna istnieją i są ciągłe w przedziale domkniętym [a,b]\n",
    "\n",
    "3) funkcja na końcach przedziału przyjmuje przeciwne znaki\n",
    "\n",
    "4) pierwsza i druga pochodna mają stały znak (brak eksremów lokalnych i punktów przegięcia)\n"
   ]
  },
  {
   "cell_type": "markdown",
   "metadata": {},
   "source": [
    "***Zadania 5.***  \n",
    "Dla głównej funkcji z zadania 1 znajdź miejsca zerowe przy użyciu:\n",
    "\n",
    "* funkcji root dostępnej w pakiecie scipy.optimize\n",
    "* funkcji fsolve dostępnej w pakiecie scipy.optimize\n"
   ]
  },
  {
   "cell_type": "code",
   "execution_count": 24,
   "metadata": {},
   "outputs": [
    {
     "name": "stdout",
     "output_type": "stream",
     "text": [
      "74.1 µs ± 3.69 µs per loop (mean ± std. dev. of 10 runs, 100 loops each)\n",
      "71.1 µs ± 2.8 µs per loop (mean ± std. dev. of 10 runs, 100 loops each)\n"
     ]
    }
   ],
   "source": [
    "import scipy.optimize\n",
    "a_b = [0.5,4]\n",
    "time_avg = [None , None]\n",
    "time_std = [None , None]\n",
    "tags = [\"scipy.root\", \"scipy.fsolve\"]\n",
    "root_solution = scipy.optimize.root(main.fun,a_b[0])\n",
    "root_iter = root_solution.nfev\n",
    "root_solution = root_solution.x[0]\n",
    "fsolve_solution = scipy.optimize.fsolve(main.fun, a_b[0] , full_output=True, epsfcn=1e-10)\n",
    "fsolve_iter = fsolve_solution[1]['nfev']\n",
    "fsolve_solution = fsolve_solution[0]\n",
    "saved_timing = %timeit -r 10 -n 100 -o scipy.optimize.root(main.fun,a_b[0])\n",
    "time_avg[0] = saved_timing.average\n",
    "time_std[0] = saved_timing.stdev\n",
    "saved_timing = %timeit -r 10 -n 100 -o scipy.optimize.fsolve(main.fun, a_b[0])\n",
    "time_avg[1] = saved_timing.average\n",
    "time_std[1] = saved_timing.stdev\n"
   ]
  },
  {
   "cell_type": "markdown",
   "metadata": {},
   "source": [
    "***Zadanie 6.***  \n",
    "Dla głównej funkcji oraz przedziału zdefiniowanego z zadania 1 znajdź miejsca zerowe przy użyciu:\n",
    "\n",
    "* metody bisekcji\n",
    "* metody siecznych\n",
    "* metody Newtona\n",
    "\n",
    "z tolerancją $10^{-10}$\n",
    "\n",
    "Zbadaj dokładność(względem rozwiązania z zadania 5) i czas obliczeń metod w zależności od liczby iteracji. Wyniki przedstaw na wykresach. "
   ]
  },
  {
   "cell_type": "code",
   "execution_count": 28,
   "metadata": {},
   "outputs": [
    {
     "name": "stdout",
     "output_type": "stream",
     "text": [
      "275 µs ± 18.9 µs per loop (mean ± std. dev. of 10 runs, 100 loops each)\n",
      "1.23 ms ± 56.2 µs per loop (mean ± std. dev. of 10 runs, 100 loops each)\n",
      "48.8 µs ± 2.24 µs per loop (mean ± std. dev. of 10 runs, 100 loops each)\n"
     ]
    },
    {
     "data": {
      "image/png": "[encoded data removed]",
      "text/plain": [
       "<Figure size 432x288 with 1 Axes>"
      ]
     },
     "metadata": {
      "needs_background": "light"
     },
     "output_type": "display_data"
    },
    {
     "data": {
      "image/png": "[encoded data removed]",
      "text/plain": [
       "<Figure size 576x360 with 1 Axes>"
      ]
     },
     "metadata": {
      "needs_background": "light"
     },
     "output_type": "display_data"
    },
    {
     "data": {
      "image/png": "[encoded data removed]",
      "text/plain": [
       "<Figure size 576x360 with 1 Axes>"
      ]
     },
     "metadata": {
      "needs_background": "light"
     },
     "output_type": "display_data"
    }
   ],
   "source": [
    "time_avg_2 = [None , None, None]\n",
    "time_std_2 = [None , None, None]\n",
    "eps = 10**-10\n",
    "max_itr = 100\n",
    "tags2 = [\"bisekcja\", \"metoda siecznych\", \"metoda newtona\"]\n",
    "\n",
    "bisection_solution,bisection_iter = main.bisection(a_b[0],a_b[1],main.fun,eps,max_itr)\n",
    "secant_solution,secant_iter = main.secant(a_b[0],a_b[1],main.fun,eps,max_itr)\n",
    "newton_solution,newton_iter = main.newton(main.fun,main.dfun,main.ddfun,a_b[0],a_b[1],eps,max_itr)\n",
    "saved_timing = %timeit -r 10 -n 100 -o main.bisection(a_b[0],a_b[1],main.fun,eps,max_itr)\n",
    "time_avg_2[0] = saved_timing.average\n",
    "time_std_2[0] = saved_timing.stdev\n",
    "saved_timing = %timeit -r 10 -n 100 -o main.secant(a_b[0],a_b[1],main.fun,eps,max_itr)\n",
    "time_avg_2[1] = saved_timing.average\n",
    "time_std_2[1] = saved_timing.stdev\n",
    "saved_timing = %timeit -r 10 -n 100 -o main.newton(main.fun,main.dfun,main.ddfun,a_b[0],a_b[1],eps,max_itr)\n",
    "time_avg_2[2] = saved_timing.average\n",
    "time_std_2[2] = saved_timing.stdev\n",
    "y_iter = np.array([root_iter,fsolve_iter,bisection_iter,secant_iter,newton_iter])\n",
    "y_time_avg = np.array(time_avg + time_avg_2)\n",
    "y_time_std = np.array(time_std + time_std_2)\n",
    "y_error = abs(np.array([bisection_solution,secant_solution,newton_solution]) - fsolve_solution)\n",
    "x_error = np.array([0.5 +i for i in range(3)])\n",
    "x = np.array([0.5 +i for i in range(5)])\n",
    "plt.scatter(x_error, y_error)\n",
    "plt.title(\"błąd bezwzględny metod:\")\n",
    "plt.xticks(x_error,tags2)\n",
    "plt.yscale(\"log\")\n",
    "plt.show()\n",
    "plt.figure(figsize=[8,5])\n",
    "plt.scatter(x, y_iter)\n",
    "plt.title(\"liczba iteracji\")\n",
    "plt.xticks(x,tags+tags2)\n",
    "plt.show()\n",
    "plt.figure(figsize=[8,5])\n",
    "plt.errorbar(x, y_time_avg,y_time_std,fmt = '.k')\n",
    "plt.title(\"złożoność czasowa\")\n",
    "plt.ylabel(\"czas [s]\")\n",
    "plt.yscale(\"log\")\n",
    "plt.xticks(x,tags+tags2)\n",
    "plt.show()"
   ]
  },
  {
   "cell_type": "markdown",
   "metadata": {},
   "source": [
    "## Wnioski\n",
    "na laboratoriach miałem okazję zapoznać się z iteracyjnymi metodami wiliczania pierwiastków równań nieliniowych. z wykresów wynika że najlepszą pod względem złożoności czasowej , stabilności jak i ilości iteracji wypada metoda newtona lecz niestety posiada ona pewne ograniczenia w postaci potrzeby znajomości pochodnej funkcji na danym przedziale (na którym występuje miejsce zerowe) w postaci jawnej, co więcej aby metoda newtona zadziałała muszą być spełnione odpowiednie warunki na danym przedziale tzn pierwsza i druga pochodna funkcji muszą posiadać stały znak. jest to warunek konieczny zadziałania algorytmu a zarazem bardzo trudny do sprawdzenia w sposób numeryczny (wymaga szukania minimów i maksymów metodą gradientową co mija się z celem w tym przypadku[duża złożoność obliczeniowa] lepiej wybrać metodę bisekcji). następną najgorszą w tym zestawieniu metodą jest metoda siecznych które ma o ponad rząd wielkości większą złożoność czasową i obliczeniową oraz generuje największe błędy podobnie jak metoda newtona także posiada dość ciękie do sprawdzenia ograniczenia w postaci wymogu braku punktów przegięcia oraz ekstremów na danym przedziale. najbardziej uniwersalną metodą wydaje się być metoda bisekcji która jest dość uniwersalna oraz ma mniejszą złożoność czasową niż metoda siecznych. Warto wspomnieć że funkcje wbudowane w modół scipy są znacznie szybsze niż bisekcja lub metoda siecznych lecz nadal wolniejsze od metody newtona. Implementacja algorymów podczas laboratoriów nie przyspożyła rzadnych problemów. Uważam że poznane metody są bardzo przydatne w analizie numerycznej funkcji nieliniowych pod względem wyznaczania ich pierwiastków"
   ]
  }
 ],
 "metadata": {
  "kernelspec": {
   "display_name": "Python 3",
   "language": "python",
   "name": "python3"
  },
  "language_info": {
   "codemirror_mode": {
    "name": "ipython",
    "version": 3
   },
   "file_extension": ".py",
   "mimetype": "text/x-python",
   "name": "python",
   "nbconvert_exporter": "python",
   "pygments_lexer": "ipython3",
   "version": "3.8.8"
  }
 },
 "nbformat": 4,
 "nbformat_minor": 2
}
